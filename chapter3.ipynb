{
 "cells": [
  {
   "cell_type": "code",
   "execution_count": 1,
   "metadata": {
    "ExecuteTime": {
     "end_time": "2024-02-29T07:47:01.831479Z",
     "start_time": "2024-02-29T07:47:01.640324Z"
    }
   },
   "outputs": [],
   "source": [
    "from chapter3 import *"
   ]
  },
  {
   "cell_type": "code",
   "execution_count": 2,
   "metadata": {
    "ExecuteTime": {
     "end_time": "2024-02-28T14:38:18.318681Z",
     "start_time": "2024-02-28T14:38:18.289322Z"
    }
   },
   "outputs": [
    {
     "name": "stdout",
     "output_type": "stream",
     "text": [
      "3.3.a: 4.69041575982343\n",
      "3.3.b: 6.855654600401044\n"
     ]
    }
   ],
   "source": [
    "# 3.3\n",
    "\n",
    "x = np.array([1, 2, 3])\n",
    "y = np.array([-1, -1, 0])\n",
    "\n",
    "def solve_3_3_a():\n",
    "    set_inner_product(dot_product)\n",
    "    print(f'3.3.a: {distance(x, y)}')\n",
    "\n",
    "def solve_3_3_b():\n",
    "    A = np.array([\n",
    "        [2, 1, 0],\n",
    "        [1, 3, -1],\n",
    "        [0, -1, 2]\n",
    "    ])\n",
    "    inner_product = lambda x, y: x.T @ A @ y\n",
    "    set_inner_product(inner_product)\n",
    "    print(f'3.3.b: {distance(x, y)}')\n",
    "\n",
    "solve_3_3_a()\n",
    "solve_3_3_b()"
   ]
  },
  {
   "cell_type": "code",
   "execution_count": 3,
   "metadata": {
    "ExecuteTime": {
     "end_time": "2024-02-28T14:38:18.326458Z",
     "start_time": "2024-02-28T14:38:18.321530Z"
    }
   },
   "outputs": [
    {
     "name": "stdout",
     "output_type": "stream",
     "text": [
      "3.4.a: 2.819842099193151rad\n",
      "3.4.b: 2.9410462957012875rad\n"
     ]
    }
   ],
   "source": [
    "# 3.4\n",
    "\n",
    "x = np.array([1, 2])\n",
    "y = np.array([-1, -1])\n",
    "\n",
    "def solve_3_4_a():\n",
    "    set_inner_product(dot_product)\n",
    "    print(f'3.4.a: {angle(x, y)}rad')\n",
    "\n",
    "def solve_3_4_b():\n",
    "    B = np.array([\n",
    "        [2, 1],\n",
    "        [1, 3]\n",
    "    ])\n",
    "    inner_product = lambda x, y: x.T @ B @ y\n",
    "    set_inner_product(inner_product)\n",
    "    print(f'3.4.b: {angle(x, y)}rad')\n",
    "\n",
    "solve_3_4_a()\n",
    "solve_3_4_b()"
   ]
  },
  {
   "cell_type": "code",
   "execution_count": 4,
   "metadata": {
    "ExecuteTime": {
     "end_time": "2024-02-28T14:38:18.339501Z",
     "start_time": "2024-02-28T14:38:18.328355Z"
    }
   },
   "outputs": [
    {
     "name": "stdout",
     "output_type": "stream",
     "text": [
      "B is not linearly independent: rk(B) = 3 != 5.Reducing B to a linearly independent set.\n",
      "3.5.a: [ 1. -5. -1. -2.  3.]\n",
      "B is not linearly independent: rk(B) = 3 != 5.Reducing B to a linearly independent set.\n",
      "3.5.b: 7.745966692414834\n"
     ]
    }
   ],
   "source": [
    "# 3.5\n",
    "\n",
    "U = np.array([\n",
    "    [0, 1, -3, -1],\n",
    "    [-1, -3, 4, -3],\n",
    "    [2, 1, 1, 5],\n",
    "    [0, -1, 2, 0],\n",
    "    [2, 2, 1, 7]\n",
    "])\n",
    "x = np.array([-1, -9, -1, 4, 1])\n",
    "\n",
    "set_inner_product(dot_product)\n",
    "\n",
    "def solve_3_5_a():\n",
    "    B = find_orthonormal_basis_gram_schmidt(U)\n",
    "    print(f'3.5.a: {project(x, B, orthogonal=True)}')\n",
    "\n",
    "def solve_3_5_b():\n",
    "    B = find_orthonormal_basis_gram_schmidt(U)\n",
    "    projection = project(x, B, orthogonal=True)\n",
    "    print(f'3.5.b: {distance(x, projection)}')\n",
    "\n",
    "solve_3_5_a()\n",
    "solve_3_5_b()"
   ]
  },
  {
   "cell_type": "code",
   "execution_count": 5,
   "metadata": {
    "ExecuteTime": {
     "end_time": "2024-02-28T14:38:18.350655Z",
     "start_time": "2024-02-28T14:38:18.343985Z"
    }
   },
   "outputs": [
    {
     "name": "stdout",
     "output_type": "stream",
     "text": [
      "3.6.a: [0. 0. 0.]\n",
      "3.6.b: 1.4142135623730951\n"
     ]
    }
   ],
   "source": [
    "# 3.6\n",
    "A = np.array([\n",
    "        [2, 1, 0],\n",
    "        [1, 2, -1],\n",
    "        [0, -1, 2]\n",
    "    ])\n",
    "set_inner_product(lambda x, y: x.T @ A @ y)\n",
    "\n",
    "U = np.array([\n",
    "    [1, 0],\n",
    "    [0, 0],\n",
    "    [0, 1]\n",
    "])\n",
    "\n",
    "x = np.array([0, 1, 0])\n",
    "\n",
    "def solve_3_6_a():\n",
    "    projection = project(x, U)\n",
    "    print(f'3.6.a: {projection}')\n",
    "\n",
    "def solve_3_6_b():\n",
    "    projection = project(x, U)\n",
    "    print(f'3.6.b: {distance(x, projection)}')\n",
    "\n",
    "solve_3_6_a()\n",
    "solve_3_6_b()"
   ]
  },
  {
   "cell_type": "code",
   "execution_count": 6,
   "metadata": {
    "ExecuteTime": {
     "end_time": "2024-02-28T14:38:18.354852Z",
     "start_time": "2024-02-28T14:38:18.352500Z"
    }
   },
   "outputs": [],
   "source": [
    "# 3.7 - Written"
   ]
  },
  {
   "cell_type": "code",
   "execution_count": 7,
   "metadata": {
    "ExecuteTime": {
     "end_time": "2024-02-28T14:38:18.362302Z",
     "start_time": "2024-02-28T14:38:18.356859Z"
    }
   },
   "outputs": [
    {
     "name": "stdout",
     "output_type": "stream",
     "text": [
      "3.8: [[ 0.40824829 -0.54433105]\n",
      " [ 0.40824829  0.68041382]\n",
      " [ 0.40824829 -0.13608276]]\n"
     ]
    }
   ],
   "source": [
    "# 3.8\n",
    "\n",
    "B = np.array([\n",
    "    [1, -1],\n",
    "    [1, 2],\n",
    "    [1, 0]\n",
    "])\n",
    "\n",
    "def solve_3_8():\n",
    "    print(f'3.8: {find_orthonormal_basis_gram_schmidt(B)}')\n",
    "\n",
    "solve_3_8()"
   ]
  },
  {
   "cell_type": "code",
   "execution_count": 8,
   "metadata": {
    "ExecuteTime": {
     "end_time": "2024-02-28T14:38:18.367175Z",
     "start_time": "2024-02-28T14:38:18.363753Z"
    }
   },
   "outputs": [],
   "source": [
    "# 3.9 - written"
   ]
  },
  {
   "cell_type": "code",
   "execution_count": 10,
   "metadata": {
    "ExecuteTime": {
     "end_time": "2024-02-28T14:39:08.652896Z",
     "start_time": "2024-02-28T14:39:08.649598Z"
    }
   },
   "outputs": [
    {
     "name": "stdout",
     "output_type": "stream",
     "text": [
      "3.10: [0.23205081 3.59807621], [ 0.5       -0.8660254]\n"
     ]
    }
   ],
   "source": [
    "# 3.10\n",
    "x1 = np.array([2, 3])\n",
    "x2 = np.array([0, -1])\n",
    "\n",
    "def solve_3_10():\n",
    "    theta = 30/180*np.pi\n",
    "    print(f'3.10: {rotate(x1, theta, (0, 1))}, {rotate(x2, theta, (0, 1))}')\n",
    "\n",
    "solve_3_10()"
   ]
  },
  {
   "cell_type": "code",
   "outputs": [],
   "source": [],
   "metadata": {
    "collapsed": false,
    "ExecuteTime": {
     "end_time": "2024-02-28T14:38:18.376961Z",
     "start_time": "2024-02-28T14:38:18.375149Z"
    }
   },
   "execution_count": 9
  }
 ],
 "metadata": {
  "kernelspec": {
   "display_name": "Python 3",
   "language": "python",
   "name": "python3"
  },
  "language_info": {
   "codemirror_mode": {
    "name": "ipython",
    "version": 3
   },
   "file_extension": ".py",
   "mimetype": "text/x-python",
   "name": "python",
   "nbconvert_exporter": "python",
   "pygments_lexer": "ipython3",
   "version": "3.9.6"
  }
 },
 "nbformat": 4,
 "nbformat_minor": 2
}
