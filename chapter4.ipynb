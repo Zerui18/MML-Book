{
 "cells": [
  {
   "cell_type": "code",
   "metadata": {
    "ExecuteTime": {
     "end_time": "2024-09-07T13:49:24.530714Z",
     "start_time": "2024-09-07T13:49:24.368475Z"
    }
   },
   "source": [
    "from chapter4 import *"
   ],
   "outputs": [],
   "execution_count": 1
  },
  {
   "cell_type": "code",
   "outputs": [
    {
     "name": "stdout",
     "output_type": "stream",
     "text": [
      "det(A) = 0\n"
     ]
    }
   ],
   "source": [
    "# 4.1\n",
    "\n",
    "A = np.array([\n",
    "    [1, 3, 5],\n",
    "    [2, 4, 6],\n",
    "    [0, 2, 4]\n",
    "])\n",
    "\n",
    "def solve4_1():\n",
    "    print(f\"det(A) = {det(A)}\")\n",
    "\n",
    "solve4_1()"
   ],
   "metadata": {
    "ExecuteTime": {
     "end_time": "2024-03-17T06:33:26.738377Z",
     "start_time": "2024-03-17T06:33:26.733936Z"
    }
   },
   "execution_count": 2
  },
  {
   "cell_type": "code",
   "execution_count": 3,
   "metadata": {
    "ExecuteTime": {
     "end_time": "2024-03-04T07:20:31.550891Z",
     "start_time": "2024-03-04T07:20:31.548558Z"
    }
   },
   "outputs": [],
   "source": [
    "# 4.2 - Written"
   ]
  },
  {
   "cell_type": "code",
   "execution_count": 4,
   "metadata": {
    "ExecuteTime": {
     "end_time": "2024-03-04T07:20:31.584238Z",
     "start_time": "2024-03-04T07:20:31.552652Z"
    }
   },
   "outputs": [
    {
     "name": "stdout",
     "output_type": "stream",
     "text": [
      "eigen_space_A = [[ 0.]\n",
      " [-1.]]\n",
      "eigen_spaces_B = [[-0.5  2. ]\n",
      " [-1.  -1. ]]\n"
     ]
    }
   ],
   "source": [
    "# 4.3\n",
    "\n",
    "A = np.array([\n",
    "    [1, 0],\n",
    "    [1, 1]\n",
    "])\n",
    "\n",
    "B = np.array([\n",
    "    [-2, 2],\n",
    "    [2, 1]\n",
    "])\n",
    "\n",
    "def solve_4_3():\n",
    "    # a)\n",
    "    eigen_space_A = eigen_decomposition(A, allow_partial=True)[1]\n",
    "    print(f\"eigen_space_A = {eigen_space_A}\")\n",
    "    # b)\n",
    "    eigen_spaces_B = eigen_decomposition(B)[1]\n",
    "    print(f\"eigen_spaces_B = {eigen_spaces_B}\")\n",
    "\n",
    "solve_4_3()"
   ]
  },
  {
   "cell_type": "code",
   "execution_count": 5,
   "metadata": {
    "ExecuteTime": {
     "end_time": "2024-03-04T07:20:31.608215Z",
     "start_time": "2024-03-04T07:20:31.591015Z"
    }
   },
   "outputs": [
    {
     "name": "stdout",
     "output_type": "stream",
     "text": [
      "eigen_space_A_2.0 = [[-1.]\n",
      " [ 0.]\n",
      " [-1.]\n",
      " [-1.]]\n",
      "eigen_space_A_1.0 = [[-1.]\n",
      " [-1.]\n",
      " [-1.]\n",
      " [-1.]]\n",
      "eigen_space_A_-1.0 = [[ 0.]\n",
      " [-1.]\n",
      " [-1.]\n",
      " [ 0.]]\n",
      "eigen_space_A_-1.0 = [[ 0.]\n",
      " [-1.]\n",
      " [-1.]\n",
      " [ 0.]]\n"
     ]
    }
   ],
   "source": [
    "# 4.4\n",
    "\n",
    "A = np.array([\n",
    "    [0, -1, 1, 1],\n",
    "    [-1, 1, -2, 3],\n",
    "    [2, -1, 0, 0],\n",
    "    [1, -1, 1, 0]\n",
    "])\n",
    "\n",
    "def solve_4_4():\n",
    "    eigen_values_A = eigen_values(A)\n",
    "    for v in eigen_values_A:\n",
    "        print(f\"eigen_space_A_{v} = {eigen_space(A, v)}\")\n",
    "\n",
    "solve_4_4()"
   ]
  },
  {
   "cell_type": "code",
   "execution_count": 6,
   "metadata": {
    "ExecuteTime": {
     "end_time": "2024-03-04T07:20:31.621257Z",
     "start_time": "2024-03-04T07:20:31.609744Z"
    }
   },
   "outputs": [
    {
     "name": "stdout",
     "output_type": "stream",
     "text": [
      "Matrix 1 is diagonalizable.\n",
      "Matrix 2 is diagonalizable.\n",
      "Matrix 3 is defective: The matrix is defective, sum(ga) <> n: 1 <> 2.\n",
      "Matrix 4 is defective: The matrix is defective, sum(ga) <> n: 1 <> 2.\n"
     ]
    }
   ],
   "source": [
    "# 4.5\n",
    "\n",
    "A1 = np.array([\n",
    "    [1, 0],\n",
    "    [0, 1]\n",
    "])\n",
    "\n",
    "A2 = np.array([\n",
    "    [1, 0],\n",
    "    [0, 0],\n",
    "])\n",
    "\n",
    "A3 = np.array([\n",
    "    [1, 1],\n",
    "    [0, 1],\n",
    "])\n",
    "\n",
    "A4 = np.array([\n",
    "    [0, 1],\n",
    "    [0, 0],\n",
    "])\n",
    "\n",
    "def solve_4_5():\n",
    "    for i, A in enumerate([A1, A2, A3, A4], 1):\n",
    "        try:\n",
    "            eigen_decomposition(A)\n",
    "            print(f'Matrix {i} is diagonalizable.')\n",
    "        except Exception as e:\n",
    "            print(f'Matrix {i} is defective: {e}')\n",
    "\n",
    "solve_4_5()"
   ]
  },
  {
   "cell_type": "code",
   "execution_count": 7,
   "metadata": {
    "ExecuteTime": {
     "end_time": "2024-03-04T07:20:31.641326Z",
     "start_time": "2024-03-04T07:20:31.623053Z"
    }
   },
   "outputs": [
    {
     "name": "stdout",
     "output_type": "stream",
     "text": [
      "Matrix 1 is defective: The matrix is defective, sum(ga) <> n: 2 <> 3.\n",
      "Matrix 2 is diagonalizable.\n"
     ]
    }
   ],
   "source": [
    "# 4.6\n",
    "\n",
    "A1 = np.array([\n",
    "    [2, 3, 0],\n",
    "    [1, 4, 3],\n",
    "    [0, 0, 1]\n",
    "])\n",
    "\n",
    "A2 = np.array([\n",
    "    [1, 1, 0, 0],\n",
    "    [0, 0, 0, 0],\n",
    "    [0, 0, 0, 0],\n",
    "    [0, 0, 0, 0],\n",
    "])\n",
    "\n",
    "def solve_4_6():\n",
    "    for i, A in enumerate([A1, A2], 1):\n",
    "        try:\n",
    "            eigen_decomposition(A)\n",
    "            print(f'Matrix {i} is diagonalizable.')\n",
    "        except Exception as e:\n",
    "            print(f'Matrix {i} is defective: {e}')\n",
    "\n",
    "solve_4_6()"
   ]
  },
  {
   "cell_type": "code",
   "execution_count": 8,
   "metadata": {
    "ExecuteTime": {
     "end_time": "2024-03-04T07:20:31.667208Z",
     "start_time": "2024-03-04T07:20:31.643737Z"
    }
   },
   "outputs": [
    {
     "name": "stdout",
     "output_type": "stream",
     "text": [
      "Matrix 1 is defective: The matrix is defective, sum(ga) <> n: 0 <> 2.\n",
      "Matrix 2 is diagonalizable.\n",
      "D = [[3. 0. 0.]\n",
      " [0. 0. 0.]\n",
      " [0. 0. 0.]]\n",
      "P = [[-1.  1.  1.]\n",
      " [-1. -1.  0.]\n",
      " [-1.  0. -1.]]\n",
      "Matrix 3 is defective: The matrix is defective, sum(ga) <> n: 3 <> 4.\n",
      "Matrix 4 is diagonalizable.\n",
      "D = [[2. 0. 0.]\n",
      " [0. 2. 0.]\n",
      " [0. 0. 1.]]\n",
      "P = [[-2.         -2.         -1.        ]\n",
      " [-1.          0.          0.33333333]\n",
      " [ 0.         -1.         -1.        ]]\n"
     ]
    }
   ],
   "source": [
    "# 4.7\n",
    "\n",
    "A1 = np.array([\n",
    "    [0, 1],\n",
    "    [-8, 4]\n",
    "])\n",
    "\n",
    "A2 = np.array([\n",
    "    [1, 1, 1],\n",
    "    [1, 1, 1],\n",
    "    [1, 1, 1],\n",
    "])\n",
    "\n",
    "A3 = np.array([\n",
    "    [5, 4, 2, 1],\n",
    "    [0, 1, -1, -1],\n",
    "    [-1, -1, 3, 0],\n",
    "    [1, 1, -1, 2]\n",
    "])\n",
    "\n",
    "A4 = np.array([\n",
    "    [5, -6, -6],\n",
    "    [-1, 4, 2],\n",
    "    [3, -6, -4]\n",
    "])\n",
    "\n",
    "def solve_4_7():\n",
    "    for i, A in enumerate([A1, A2, A3, A4], 1):\n",
    "        try:\n",
    "            D, P = eigen_decomposition(A)\n",
    "            print(f'Matrix {i} is diagonalizable.')\n",
    "            print(f'D = {D}')\n",
    "            print(f'P = {P}')\n",
    "        except Exception as e:\n",
    "            print(f'Matrix {i} is defective: {e}')\n",
    "\n",
    "solve_4_7()"
   ]
  },
  {
   "cell_type": "code",
   "execution_count": 9,
   "metadata": {
    "ExecuteTime": {
     "end_time": "2024-03-04T07:20:31.684382Z",
     "start_time": "2024-03-04T07:20:31.669058Z"
    }
   },
   "outputs": [
    {
     "name": "stdout",
     "output_type": "stream",
     "text": [
      "U   = \n",
      "[[-1.  1.]\n",
      " [-1. -1.]]\n",
      "D   = \n",
      "[[5. 0.]\n",
      " [0. 3.]]\n",
      "V.T = \n",
      "[[-1.         -1.          0.        ]\n",
      " [ 0.33333333 -0.33333333  1.33333333]]\n",
      "U @ D @ V.T = \n",
      "[[ 6.  4.  4.]\n",
      " [ 4.  6. -4.]]\n"
     ]
    }
   ],
   "source": [
    "# 4.8\n",
    "\n",
    "A = np.array([\n",
    "    [3, 2, 2],\n",
    "    [2, 3, -2]\n",
    "])\n",
    "\n",
    "def solve_4_8():\n",
    "    U, D, V = singular_value_decomposition(A)\n",
    "    print(f'U   = \\n{U}')\n",
    "    print(f'D   = \\n{D}')\n",
    "    print(f'V.T = \\n{V.T}')\n",
    "    print(f'U @ D @ V.T = \\n{U @ D @ V.T}')\n",
    "\n",
    "solve_4_8()\n"
   ]
  },
  {
   "cell_type": "code",
   "execution_count": 10,
   "metadata": {
    "ExecuteTime": {
     "end_time": "2024-03-04T07:20:31.701974Z",
     "start_time": "2024-03-04T07:20:31.686465Z"
    }
   },
   "outputs": [
    {
     "name": "stdout",
     "output_type": "stream",
     "text": [
      "U   = \n",
      "[[-1.41421356  0.        ]\n",
      " [ 0.         -1.41421356]]\n",
      "D   = \n",
      "[[2.82842712 0.        ]\n",
      " [0.         1.41421356]]\n",
      "V.T = \n",
      "[[-1. -1.]\n",
      " [ 1. -1.]]\n",
      "U @ D @ V.T = \n",
      "[[ 4.  4.]\n",
      " [-2.  2.]]\n"
     ]
    }
   ],
   "source": [
    "# 4.9\n",
    "\n",
    "A = np.array([\n",
    "    [2, 2],\n",
    "    [-1, 1]\n",
    "])\n",
    "\n",
    "def solve_4_9():\n",
    "    U, D, V = singular_value_decomposition(A)\n",
    "    print(f'U   = \\n{U}')\n",
    "    print(f'D   = \\n{D}')\n",
    "    print(f'V.T = \\n{V.T}')\n",
    "    print(f'U @ D @ V.T = \\n{U @ D @ V.T}')\n",
    "\n",
    "solve_4_9()"
   ]
  },
  {
   "cell_type": "code",
   "execution_count": 11,
   "metadata": {
    "ExecuteTime": {
     "end_time": "2024-03-04T07:20:31.716577Z",
     "start_time": "2024-03-04T07:20:31.703532Z"
    }
   },
   "outputs": [
    {
     "name": "stdout",
     "output_type": "stream",
     "text": [
      "rk_1_approx = \n",
      "[[ 5.         -1.66666667]\n",
      " [ 5.         -1.66666667]]\n"
     ]
    }
   ],
   "source": [
    "# 4.10\n",
    "\n",
    "A = np.array([\n",
    "    [3, 2, 2],\n",
    "    [2, 3, -2]\n",
    "])\n",
    "\n",
    "def solve_4_10():\n",
    "    U, D, V = singular_value_decomposition(A)\n",
    "    rk_1_approx = U[:, :1] @ D[:1, :1] @ V.T[:, :1].T\n",
    "    print(f'rk_1_approx = \\n{rk_1_approx}')\n",
    "\n",
    "solve_4_10()"
   ]
  },
  {
   "cell_type": "code",
   "execution_count": 12,
   "metadata": {
    "ExecuteTime": {
     "end_time": "2024-03-04T07:20:31.724600Z",
     "start_time": "2024-03-04T07:20:31.718243Z"
    }
   },
   "outputs": [],
   "source": [
    "# 4.11, 4.12 - Written"
   ]
  }
 ],
 "metadata": {
  "kernelspec": {
   "display_name": "Python 3",
   "language": "python",
   "name": "python3"
  },
  "language_info": {
   "codemirror_mode": {
    "name": "ipython",
    "version": 3
   },
   "file_extension": ".py",
   "mimetype": "text/x-python",
   "name": "python",
   "nbconvert_exporter": "python",
   "pygments_lexer": "ipython3",
   "version": "3.10.13"
  }
 },
 "nbformat": 4,
 "nbformat_minor": 2
}
